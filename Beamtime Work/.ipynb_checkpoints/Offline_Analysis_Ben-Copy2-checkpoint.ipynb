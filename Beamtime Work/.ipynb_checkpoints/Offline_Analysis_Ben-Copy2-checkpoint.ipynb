{
 "cells": [
  {
   "cell_type": "code",
   "execution_count": 1,
   "id": "eb9d3d8b",
   "metadata": {},
   "outputs": [
    {
     "name": "stdout",
     "output_type": "stream",
     "text": [
      "The history saving thread hit an unexpected error (DatabaseError('database disk image is malformed')).History will not be written to the database.\n"
     ]
    }
   ],
   "source": [
    "import pandas as pd \n",
    "\n",
    "import psana as ps\n",
    "import numpy as np\n",
    "import math \n",
    "import matplotlib as mpl\n",
    "import matplotlib.pyplot as plt\n",
    "from numpy.polynomial import Polynomial as npply\n",
    "import sys\n",
    "import os\n",
    "import h5py\n",
    "import scipy.stats as st\n",
    "from scipy.optimize import curve_fit\n",
    "from scipy.ndimage import gaussian_filter as gf\n",
    "from sklearn.utils import resample\n",
    "sys.path.append('/reg/data/ana16/rix/rixlv1519/results/LCLS_LV15_2021/TestCode/EarlyScience/AnalyzeH5/')\n",
    "from chemRIXSAnalysis import *\n",
    "from ChemRIXSClasses import *\n",
    "from filterTools import *\n",
    "sys.path.append('/reg/data/ana16/rix/rixlv1519/results/LCLS_LV15_2021/Functions/')\n",
    "from Functions import *\n",
    "font = {'size'   : 16}\n",
    "mpl.rc('font', **font)\n",
    "\n",
    "cmap = plt.cm.get_cmap('terrain').reversed()"
   ]
  },
  {
   "cell_type": "code",
   "execution_count": 2,
   "id": "edc97bb5",
   "metadata": {},
   "outputs": [],
   "source": [
    "exp = 'rixlv1519'\n",
    "small_data_folder = '/reg/data/ana01/rix/%s/hdf5/smalldata/' % exp #changeme\n",
    "scan = 11\n",
    "# raw = h5py.File(small_data_folder+'rixlw1019_Run00%s.h5' % scan)\n",
    "# print(list(raw.keys()))\n",
    "# print(list(raw['atmopal'].keys()))\n",
    "\n"
   ]
  },
  {
   "cell_type": "code",
   "execution_count": 3,
   "id": "a9112347",
   "metadata": {},
   "outputs": [
    {
     "name": "stdout",
     "output_type": "stream",
     "text": [
      "['Sums', 'UserDataCfg', 'atmopal', 'ebeam', 'epicsAll', 'gmd', 'hsd', 'lightStatus', 'manta', 'rix_fim2', 'rix_fim2_raw', 'scan', 'timestamp', 'timing', 'xgmd']\n"
     ]
    },
    {
     "data": {
      "text/plain": [
       "(24000,)"
      ]
     },
     "execution_count": 3,
     "metadata": {},
     "output_type": "execute_result"
    }
   ],
   "source": [
    "raw = h5py.File(small_data_folder+'rixlv1519_Run00%s.h5' % scan)\n",
    "print(list(raw.keys()))\n",
    "laser = np.array(raw['lightStatus']['laser'])\n",
    "laser.shape\n",
    "laser[laser==1].shape"
   ]
  },
  {
   "cell_type": "code",
   "execution_count": 4,
   "id": "11e5434a",
   "metadata": {
    "scrolled": false
   },
   "outputs": [
    {
     "name": "stdout",
     "output_type": "stream",
     "text": [
      "no TT\n",
      "loading fim0\n",
      "no fim0\n",
      "loading fim1\n",
      "no fim1\n",
      "loading andor\n",
      "no andor\n",
      "loading fim2\n"
     ]
    }
   ],
   "source": [
    "raw = h5py.File(small_data_folder+'rixlv1519_Run00%s.h5' % scan)\n",
    "xgmd = np.array(raw['xgmd']['energy'])\n",
    "gmd = np.array(raw['gmd']['energy'])\n",
    "energy_raw = np.array(raw['epicsAll']['MONO_ENERGY_EV'])\n",
    "# mono_encoder = np.array(raw['mono_encoder']['value'])\n",
    "pitch_raw = np.array(raw['epicsAll']['MONO_GRATING_PITCH'])\n",
    "horz_raw = np.array(raw['epicsAll']['MR3K4_pitch'])\n",
    "evrs = np.array(raw['timing']['eventcodes'])\n",
    "lxt = np.array(raw['epicsAll']['LAS_VIT_TIME'])\n",
    "laser = np.array(raw['lightStatus']['laser'])\n",
    "\n",
    "try:\n",
    "    tt_pos=raw['tt']['fltpos'][:]\n",
    "    print('loading TT')\n",
    "    tt_posps=raw['tt']['fltpos_ps'][:]\n",
    "    tt_posfwhm=raw['tt']['fltposfwhm'][:]\n",
    "except:\n",
    "    print('no TT')\n",
    "    TT = False\n",
    "\n",
    "try:\n",
    "    print('loading fim0')\n",
    "    fim0_raw = []\n",
    "    for i in raw['rix_fim0_raw']:\n",
    "        fim0_raw.append(np.array((raw['rix_fim0_raw'][i])))\n",
    "    fim0_raw = np.moveaxis(np.asarray(fim0_raw),0,1)\n",
    "except:\n",
    "    print('no fim0')\n",
    "    Fim0 = False\n",
    "\n",
    "try:\n",
    "    print('loading fim1')\n",
    "    fim1_raw = []\n",
    "    for i in raw['rix_fim1_raw']:\n",
    "        fim1_raw.append(np.array((raw['rix_fim1_raw'][i])))\n",
    "    fim1_raw = np.moveaxis(np.asarray(fim1_raw),0,1)\n",
    "except:\n",
    "    print('no fim1')\n",
    "    Fim1 = False\n",
    "\n",
    "try:\n",
    "    print('loading andor')\n",
    "    andor_raw = np.array(raw['andor_dir']['full_area'])\n",
    "except:\n",
    "    print('no andor')\n",
    "    Andor = False\n",
    "\n",
    "try:\n",
    "    print('loading fim2')\n",
    "    fim2_raw = []\n",
    "    for i in raw['rix_fim2_raw']:\n",
    "        fim2_raw.append(np.array((raw['rix_fim2_raw'][i])))\n",
    "    fim2_raw = np.moveaxis(np.asarray(fim2_raw),0,1)\n",
    "except:\n",
    "    print('no fim2')\n",
    "    Fim2 = False\n",
    "# I0_intensities_fim0, I0_specs_fim0, baselines_fim0 = process_fim(fim0_raw,[0,1,2,3,4,5,6,7]],np.arange(0,50),np.arange(80,220))\n",
    "# I0_intensities_fim1, I0_specs_fim1, baselines_fim1 = process_fim(fim1_raw,[0,1,2,3,4,5,6,7],np.arange(0,50),np.arange(80,220))\n",
    "APD_intensities_fim2, APD_specs_fim2, baseline_fim2 = process_fim(fim2_raw,[0,1,2,3,4,5,6,7],np.arange(0,20),np.arange(40,220))\n",
    "# andor_intensities, andor_specs, baseline_andor = process_andor(andor_raw,np.arange(500,800),np.arange(900,1300))"
   ]
  },
  {
   "cell_type": "code",
   "execution_count": 36,
   "id": "0b3ff4ab",
   "metadata": {},
   "outputs": [
    {
     "data": {
      "image/png": "[encoded data removed]",
      "text/plain": [
       "<Figure size 432x288 with 1 Axes>"
      ]
     },
     "metadata": {
      "needs_background": "light"
     },
     "output_type": "display_data"
    }
   ],
   "source": [
    "# pumped, unpumped = sort_pump_v_unpump(laser,variable):\n",
    "B_condition_9 = bounds_filter(test,[[33550000,'None'],[2]],True)\n",
    "condition = B_condition_9\n",
    "laser_filtered = laser.copy()[condition]"
   ]
  },
  {
   "cell_type": "code",
   "execution_count": 23,
   "id": "14d1030d",
   "metadata": {},
   "outputs": [
    {
     "data": {
      "image/png": "[encoded data removed]",
      "text/plain": [
       "<Figure size 432x288 with 1 Axes>"
      ]
     },
     "metadata": {
      "needs_background": "light"
     },
     "output_type": "display_data"
    },
    {
     "name": "stdout",
     "output_type": "stream",
     "text": [
      "\n",
      "(2855,)\n",
      "(2137,)\n"
     ]
    }
   ],
   "source": [
    "#    bounds_filter(raw_data,filt_param,plot_on):\n",
    "#    lower_bound = filt_param[0][0]\n",
    "#    upper_bound = filt_param[0][1]\n",
    "#    num_stds = filt_param[1][0]\n",
    "\n",
    "\n",
    "#    lin_filter(data_1,data_2,filt_param,plot_on):\n",
    "#    width of filter = filt_param[0]\n",
    "#    force through origin = filt_param[1]  ('True' or 'False')\n",
    "\n",
    "\n",
    "B_condition_1 = bounds_filter(I0_intensities_fim0[0,:],[[4000,'None'],[3]],True)\n",
    "B_condition_2 = bounds_filter(I0_intensities_fim0[1,:],[[1000,'None'],[3]],False)\n",
    "B_condition_3 = bounds_filter(I0_intensities_fim0[2,:],[[1000,'None'],[3]],False)\n",
    "B_condition_4 = bounds_filter(I0_intensities_fim0[3,:],[[1000,'None'],[3]],False)\n",
    "\n",
    "B_condition_5 = bounds_filter(I0_intensities_fim1[0,:],[[1000,'None'],[3]],False)\n",
    "B_condition_6 = bounds_filter(I0_intensities_fim1[1,:],[[1000,'None'],[3]],False)\n",
    "B_condition_7 = bounds_filter(I0_intensities_fim1[2,:],[[1000,'None'],[3]],False)\n",
    "B_condition_8 = bounds_filter(I0_intensities_fim1[3,:],[[1000,'None'],[3]],False)\n",
    "\n",
    "B_condition_9 = bounds_filter(APD_intensities_fim2[0,:],[[-500000,'None'],[2]],False)\n",
    "\n",
    "bounds_condition = B_condition_1 \n",
    "\n",
    "L_condition_1 = lin_filter(I0_intensities_fim0[0,:], andor_intensities,[0.05,False],False)\n",
    "L_condition_2 = lin_filter(I0_intensities_fim0[1,:], andor_intensities,[0.05,False],False)\n",
    "L_condition_3 = lin_filter(I0_intensities_fim1[0,:], andor_intensities,[0.05,False],False)\n",
    "\n",
    "L_condition_4 = lin_filter(I0_intensities_fim0[0,:], APD_intensities_fim2[0,:],[0.5,False],False)\n",
    "\n",
    "\n",
    "linearity_condition = L_condition_3\n",
    "condition = bounds_condition & linearity_condition\n",
    "print('')\n",
    "print(condition.shape)\n",
    "print(condition[condition==True].shape)\n",
    "# condition = True\n",
    "laser_filtered = laser.copy()[condition]"
   ]
  },
  {
   "cell_type": "code",
   "execution_count": null,
   "id": "a8f054a3",
   "metadata": {},
   "outputs": [],
   "source": [
    "############# MONO SCANS ############\n",
    "\n",
    "# energy, intensity = mono_spectrum(mono_encoder_ev, n_bins, y_vals):\n",
    "mono_encoder_ev = np.squeeze(mono_calib(energy_raw,mono_encoder))\n",
    "n_bins = 100\n",
    "y_vals = andor_intensities[condition]/I0_intensities_fim0[0,:][condition]\n",
    "x_vals = mono_encoder_ev[condition]\n",
    "\n",
    "y_vals = APD_intensities_fim2[0,:][condition]/I0_intensities_fim0[0,:][condition]\n",
    "x_vals = mono_encoder_ev[condition]\n",
    "\n",
    "energy_pumped, intensity_pumped = mono_spectrum(x_vals[laser_filtered==1], n_bins, y_vals[laser_filtered==1])\n",
    "energy_unpumped, intensity_unpumped = mono_spectrum(x_vals[laser_filtered==0], n_bins, y_vals[laser_filtered==0])\n",
    "\n",
    "\n",
    "\n",
    "plt.figure()\n",
    "plt.plot(energy_pumped,intensity_pumped,label='pumped')\n",
    "plt.plot(energy_unpumped,intensity_unpumped,label='unpumped')\n",
    "plt.legend()\n",
    "plt.show()\n",
    "\n",
    "plt.figure()\n",
    "plt.plot(energy_pumped,(intensity_pumped-intensity_unpumped),label='DeltaT')\n",
    "plt.legend()\n",
    "\n",
    "\n",
    "plt.figure()\n",
    "plt.plot(energy_pumped,(intensity_pumped-intensity_unpumped)/intensity_unpumped,label='DeltaT/T')\n",
    "plt.legend()\n",
    "\n",
    "print(str(laser_filtered[laser_filtered==1].shape[0]) + ' pumped shots')\n",
    "print(str(laser_filtered[laser_filtered==0].shape[0]) + ' pumped shots')\n"
   ]
  },
  {
   "cell_type": "code",
   "execution_count": 37,
   "id": "f768641b",
   "metadata": {},
   "outputs": [
    {
     "data": {
      "text/plain": [
       "<matplotlib.legend.Legend at 0x7f48a8465e90>"
      ]
     },
     "execution_count": 37,
     "metadata": {},
     "output_type": "execute_result"
    },
    {
     "data": {
      "image/png": "[encoded data removed]",
      "text/plain": [
       "<Figure size 432x288 with 1 Axes>"
      ]
     },
     "metadata": {
      "needs_background": "light"
     },
     "output_type": "display_data"
    }
   ],
   "source": [
    "y_vals = test[condition]#/I0_intensities_fim1[0,:][condition]\n",
    "x_vals = lxt[condition]\n",
    "d_bins_pumped, andor_intensities_time_pumped = time_scan(x_vals[laser_filtered==1], y_vals[laser_filtered==1])\n",
    "# d_bins_unpumped, andor_intensities_time_unpumped = time_scan(x_vals[laser_filtered==0], y_vals[laser_filtered==0])\n",
    "\n",
    "\n",
    "plt.figure()\n",
    "plt.plot(d_bins_pumped, andor_intensities_time_pumped,label='pumped')\n",
    "# plt.plot(d_bins_unpumped, andor_intensities_time_unpumped,label='unpumped')\n",
    "plt.legend()"
   ]
  },
  {
   "cell_type": "code",
   "execution_count": 1,
   "id": "c93f5974",
   "metadata": {},
   "outputs": [
    {
     "name": "stdout",
     "output_type": "stream",
     "text": [
      "The history saving thread hit an unexpected error (DatabaseError('database disk image is malformed')).History will not be written to the database.\n"
     ]
    },
    {
     "ename": "NameError",
     "evalue": "name 'plt' is not defined",
     "output_type": "error",
     "traceback": [
      "\u001b[0;31m---------------------------------------------------------------------------\u001b[0m",
      "\u001b[0;31mNameError\u001b[0m                                 Traceback (most recent call last)",
      "\u001b[0;32m/tmp/ipykernel_28199/2405902785.py\u001b[0m in \u001b[0;36m<module>\u001b[0;34m\u001b[0m\n\u001b[0;32m----> 1\u001b[0;31m \u001b[0mplt\u001b[0m\u001b[0;34m.\u001b[0m\u001b[0mplot\u001b[0m\u001b[0;34m(\u001b[0m\u001b[0mnp\u001b[0m\u001b[0;34m.\u001b[0m\u001b[0mmean\u001b[0m\u001b[0;34m(\u001b[0m\u001b[0mAPD_specs_fim2\u001b[0m\u001b[0;34m[\u001b[0m\u001b[0;36m0\u001b[0m\u001b[0;34m,\u001b[0m\u001b[0;34m:\u001b[0m\u001b[0;34m]\u001b[0m\u001b[0;34m,\u001b[0m\u001b[0;36m0\u001b[0m\u001b[0;34m)\u001b[0m\u001b[0;34m)\u001b[0m\u001b[0;34m\u001b[0m\u001b[0;34m\u001b[0m\u001b[0m\n\u001b[0m",
      "\u001b[0;31mNameError\u001b[0m: name 'plt' is not defined"
     ]
    }
   ],
   "source": [
    "plt.plot(np.mean(APD_specs_fim2[0,:],0))"
   ]
  }
 ],
 "metadata": {
  "kernelspec": {
   "display_name": "LCLS-II py3",
   "language": "python",
   "name": "ana2-current"
  },
  "language_info": {
   "codemirror_mode": {
    "name": "ipython",
    "version": 3
   },
   "file_extension": ".py",
   "mimetype": "text/x-python",
   "name": "python",
   "nbconvert_exporter": "python",
   "pygments_lexer": "ipython3",
   "version": "3.7.10"
  }
 },
 "nbformat": 4,
 "nbformat_minor": 5
}
